{
 "cells": [
  {
   "cell_type": "code",
   "execution_count": null,
   "id": "familiar-madison",
   "metadata": {},
   "outputs": [],
   "source": [
    "import waybackpy\n",
    "import advertools as adv\n",
    "\n",
    "sitemap_df = adv.sitemap_to_df('SITEMAP_URL')"
   ]
  },
  {
   "cell_type": "code",
   "execution_count": null,
   "id": "patient-mechanism",
   "metadata": {},
   "outputs": [],
   "source": [
    "sitemap_df"
   ]
  },
  {
   "cell_type": "code",
   "execution_count": null,
   "id": "basic-intro",
   "metadata": {},
   "outputs": [],
   "source": [
    "url_list = sitemap_df['loc'].to_list()\n",
    "url_list"
   ]
  },
  {
   "cell_type": "code",
   "execution_count": null,
   "id": "massive-starter",
   "metadata": {},
   "outputs": [],
   "source": [
    "user_agent = \"Mozilla/5.0 (Linux; Android 5.0; SM-G900P Build/LRX21T) AppleWebKit/537.36 (KHTML, like Gecko) Chrome/90.0.4430.93 Mobile Safari/537.36\"\n",
    "\n",
    "for url in url_list:\n",
    "    wayback = waybackpy.Url(url, user_agent)\n",
    "    archive = wayback.save()\n",
    "    print(archive.archive_url)"
   ]
  }
 ],
 "metadata": {
  "kernelspec": {
   "display_name": "Python 3",
   "language": "python",
   "name": "python3"
  },
  "language_info": {
   "codemirror_mode": {
    "name": "ipython",
    "version": 3
   },
   "file_extension": ".py",
   "mimetype": "text/x-python",
   "name": "python",
   "nbconvert_exporter": "python",
   "pygments_lexer": "ipython3",
   "version": "3.9.0"
  }
 },
 "nbformat": 4,
 "nbformat_minor": 5
}
